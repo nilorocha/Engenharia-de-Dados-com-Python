{
 "cells": [
  {
   "cell_type": "markdown",
   "id": "5f540de3",
   "metadata": {},
   "source": [
    "# Projeto Basico sistema bancario"
   ]
  },
  {
   "cell_type": "code",
   "execution_count": 2,
   "id": "16228f62",
   "metadata": {},
   "outputs": [],
   "source": [
    "#Deposito aceita somente valores positivos\n",
    "deposito = 0\n",
    "\n",
    "#Saque só pode ser 3 saques diarios e com limite maximo de R$500\n",
    "#Caso não tenha saldo em conta enviar mensagem que não foi possivel sacar valor, conta não pode ficar negativa\n",
    "saque = 0\n",
    "\n",
    "#Extrato todas as operações devem ser registradas nesta opção.\n",
    "\n",
    "#extrato\n",
    "\n",
    "#Apos as operações mostrar saldo\n",
    "#no Formato R$xxx,xx\n",
    "\n",
    "q sair"
   ]
  },
  {
   "cell_type": "code",
   "execution_count": null,
   "id": "9921436a",
   "metadata": {
    "collapsed": true
   },
   "outputs": [],
   "source": [
    "menu = \"\"\"\n",
    "\n",
    "[d] Depositar\n",
    "[s] Sacar\n",
    "[e] Extrato\n",
    "[q] Sair\n",
    "\n",
    "=> \"\"\"\n",
    "\n",
    "saldo = 0\n",
    "limite = 500\n",
    "extrato = ''\n",
    "numeros_saques = 0\n",
    "LIMITE_SAQUES = 3"
   ]
  }
 ],
 "metadata": {
  "kernelspec": {
   "display_name": "Python 3 (ipykernel)",
   "language": "python",
   "name": "python3"
  },
  "language_info": {
   "codemirror_mode": {
    "name": "ipython",
    "version": 3
   },
   "file_extension": ".py",
   "mimetype": "text/x-python",
   "name": "python",
   "nbconvert_exporter": "python",
   "pygments_lexer": "ipython3",
   "version": "3.11.5"
  }
 },
 "nbformat": 4,
 "nbformat_minor": 5
}
